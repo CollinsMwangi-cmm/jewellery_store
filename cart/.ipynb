{
 "cells": [
  {
   "cell_type": "code",
   "execution_count": null,
   "id": "initial_id",
   "metadata": {
    "collapsed": true
   },
   "outputs": [],
   "source": [
    "*.pyc\n",
    "__pycache__/\n",
    "*.pyo\n",
    "*.pyd\n",
    ".Python\n",
    "env/\n",
    "venv/\n",
    ".env\n",
    ".venv\n",
    "pip-log.txt\n",
    "pip-delete-this-directory.txt\n",
    ".tox/\n",
    ".coverage\n",
    ".coverage.*\n",
    ".cache\n",
    "nosetests.xml\n",
    "coverage.xml\n",
    "*.cover\n",
    "*.log\n",
    ".pytest_cache/\n",
    "db.sqlite3\n",
    "media/\n",
    "local_settings.py\n",
    "*.pot\n",
    "*.pyc\n",
    "*.pyo\n",
    "*.pyd\n",
    ".env\n",
    ".venv/\n",
    "ENV/"
   ]
  }
 ],
 "metadata": {
  "kernelspec": {
   "display_name": "Python 3",
   "language": "python",
   "name": "python3"
  },
  "language_info": {
   "codemirror_mode": {
    "name": "ipython",
    "version": 2
   },
   "file_extension": ".py",
   "mimetype": "text/x-python",
   "name": "python",
   "nbconvert_exporter": "python",
   "pygments_lexer": "ipython2",
   "version": "2.7.6"
  }
 },
 "nbformat": 4,
 "nbformat_minor": 5
}
